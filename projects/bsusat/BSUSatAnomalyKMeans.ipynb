{
 "cells": [
  {
   "cell_type": "code",
   "execution_count": 1,
   "metadata": {},
   "outputs": [
    {
     "name": "stdout",
     "output_type": "stream",
     "text": [
      "Waiting for a Spark session to start...\n",
      "Spark Initialization Done! ApplicationId = app-20190416083213-0000\n",
      "KERNEL_ID = 02187022-c342-4d76-af8b-a0151123e674\n",
      "--2019-04-16 08:32:16--  https://raw.githubusercontent.com/romeokienzler/uhack/master/projects/bsusat/telemetry3.json\n",
      "Resolving raw.githubusercontent.com (raw.githubusercontent.com)... 199.232.8.133\n",
      "Connecting to raw.githubusercontent.com (raw.githubusercontent.com)|199.232.8.133|:443... connected.\n",
      "HTTP request sent, awaiting response... 200 OK\n",
      "Length: 454538 (444K) [text/plain]\n",
      "Saving to: 'telemetry3.json'\n",
      "\n",
      "telemetry3.json     100%[===================>] 443.88K  --.-KB/s    in 0.02s   \n",
      "\n",
      "2019-04-16 08:32:16 (23.8 MB/s) - 'telemetry3.json' saved [454538/454538]\n",
      "\n"
     ]
    }
   ],
   "source": [
    "!wget https://raw.githubusercontent.com/romeokienzler/uhack/master/projects/bsusat/telemetry3.json"
   ]
  },
  {
   "cell_type": "code",
   "execution_count": 2,
   "metadata": {},
   "outputs": [
    {
     "data": {
      "text/plain": [
       "[Row(EPS_can_status='OK', MCUSR='5', OBC_can_status='TIMEOUT', RF_ID='0', battery_voltage='8.35', data_type='3', info_size='43', modem_on_period='10', observer='JA0CAW', opr_time='336', pamp_temp='34.26', pamp_voltage='2.2', pwr_save_state='on', reboot_cnt='48', seq_number='1', system_voltage='8.72', timestamp='2018-11-13T10:49:18.900Z', tx_attenuator='8'),\n",
       " Row(EPS_can_status='OK', MCUSR='5', OBC_can_status='TIMEOUT', RF_ID='0', battery_voltage='8.35', data_type='3', info_size='43', modem_on_period='10', observer='JesperLF', opr_time='565', pamp_temp='32.75', pamp_voltage='2.2', pwr_save_state='on', reboot_cnt='46', seq_number='1', system_voltage='8.72', timestamp='2018-11-13T09:33:07.680Z', tx_attenuator='8'),\n",
       " Row(EPS_can_status='OK', MCUSR='5', OBC_can_status='TIMEOUT', RF_ID='0', battery_voltage='8.35', data_type='3', info_size='43', modem_on_period='10', observer='JesperLF', opr_time='475', pamp_temp='32.75', pamp_voltage='2.2', pwr_save_state='on', reboot_cnt='46', seq_number='1', system_voltage='8.72', timestamp='2018-11-13T09:31:37.690Z', tx_attenuator='8'),\n",
       " Row(EPS_can_status='OK', MCUSR='5', OBC_can_status='TIMEOUT', RF_ID='1', battery_voltage='8.32', data_type='3', info_size='43', modem_on_period='10', observer='JesperLF', opr_time='1014', pamp_temp='34.26', pamp_voltage='2.2', pwr_save_state='on', reboot_cnt='38', seq_number='1', system_voltage='4.98', timestamp='2018-11-13T08:00:36.800Z', tx_attenuator='8'),\n",
       " Row(EPS_can_status='OK', MCUSR='5', OBC_can_status='TIMEOUT', RF_ID='1', battery_voltage='8.32', data_type='3', info_size='43', modem_on_period='10', observer='JesperLF', opr_time='966', pamp_temp='34.64', pamp_voltage='2.2', pwr_save_state='on', reboot_cnt='38', seq_number='1', system_voltage='4.98', timestamp='2018-11-13T07:59:48.690Z', tx_attenuator='8')]"
      ]
     },
     "execution_count": 2,
     "metadata": {},
     "output_type": "execute_result"
    }
   ],
   "source": [
    "df_data_1 = spark.read.json('telemetry3.json')\n",
    "df_data_1.take(5)"
   ]
  },
  {
   "cell_type": "code",
   "execution_count": 3,
   "metadata": {},
   "outputs": [
    {
     "data": {
      "text/plain": [
       "1155"
      ]
     },
     "execution_count": 3,
     "metadata": {},
     "output_type": "execute_result"
    }
   ],
   "source": [
    "df_data_1.count()"
   ]
  },
  {
   "cell_type": "code",
   "execution_count": 4,
   "metadata": {},
   "outputs": [],
   "source": [
    "df = df_data_1"
   ]
  },
  {
   "cell_type": "code",
   "execution_count": 5,
   "metadata": {},
   "outputs": [],
   "source": [
    "df.createOrReplaceTempView('df')"
   ]
  },
  {
   "cell_type": "code",
   "execution_count": 6,
   "metadata": {},
   "outputs": [
    {
     "name": "stdout",
     "output_type": "stream",
     "text": [
      "+--------------+-----+--------------+-----+---------------+---------+---------+---------------+--------+--------+---------+------------+--------------+----------+----------+--------------+--------------------+-------------+\n",
      "|EPS_can_status|MCUSR|OBC_can_status|RF_ID|battery_voltage|data_type|info_size|modem_on_period|observer|opr_time|pamp_temp|pamp_voltage|pwr_save_state|reboot_cnt|seq_number|system_voltage|           timestamp|tx_attenuator|\n",
      "+--------------+-----+--------------+-----+---------------+---------+---------+---------------+--------+--------+---------+------------+--------------+----------+----------+--------------+--------------------+-------------+\n",
      "|            OK|    5|       TIMEOUT|    0|           8.35|        3|       43|             10|  JA0CAW|     336|    34.26|         2.2|            on|        48|         1|          8.72|2018-11-13T10:49:...|            8|\n",
      "|            OK|    5|       TIMEOUT|    0|           8.35|        3|       43|             10|JesperLF|     565|    32.75|         2.2|            on|        46|         1|          8.72|2018-11-13T09:33:...|            8|\n",
      "|            OK|    5|       TIMEOUT|    0|           8.35|        3|       43|             10|JesperLF|     475|    32.75|         2.2|            on|        46|         1|          8.72|2018-11-13T09:31:...|            8|\n",
      "|            OK|    5|       TIMEOUT|    1|           8.32|        3|       43|             10|JesperLF|    1014|    34.26|         2.2|            on|        38|         1|          4.98|2018-11-13T08:00:...|            8|\n",
      "|            OK|    5|       TIMEOUT|    1|           8.32|        3|       43|             10|JesperLF|     966|    34.64|         2.2|            on|        38|         1|          4.98|2018-11-13T07:59:...|            8|\n",
      "|            OK|    5|       TIMEOUT|    1|           8.35|        1|        3|             10|JesperLF|     932|    35.02|         2.2|            on|        38|         1|          4.98|2018-11-13T07:59:...|            8|\n",
      "|            OK|    5|       TIMEOUT|    1|           8.35|      254|       64|             10|JesperLF|     927|    34.64|         2.2|            on|        38|         1|          4.98|2018-11-13T07:59:...|            8|\n",
      "|            OK|    5|       TIMEOUT|    1|           8.35|        1|        3|             10|JesperLF|     926|    34.64|         2.2|            on|        38|         1|          4.98|2018-11-13T07:59:...|            8|\n",
      "|            OK|    5|       TIMEOUT|    1|           8.35|      254|       64|             10|JesperLF|     924|    34.64|         2.2|            on|        38|         1|          4.98|2018-11-13T07:59:...|            8|\n",
      "|            OK|    5|       TIMEOUT|    1|           8.35|        1|        3|             10|JesperLF|     923|    34.26|         2.2|            on|        38|         1|          4.98|2018-11-13T07:59:...|            8|\n",
      "|            OK|    5|       TIMEOUT|    1|           8.35|      254|       64|             10|JesperLF|     921|    34.26|         2.2|            on|        38|         1|          4.98|2018-11-13T07:59:...|            8|\n",
      "|            OK|    5|       TIMEOUT|    1|           8.35|      254|       64|             10|JesperLF|     882|    34.64|         2.2|            on|        38|         1|          4.98|2018-11-13T07:58:...|            8|\n",
      "|            OK|    5|       TIMEOUT|    1|           8.35|        1|        3|             10|JesperLF|     881|    34.26|         2.2|            on|        38|         1|          4.98|2018-11-13T07:58:...|            8|\n",
      "|            OK|    5|       TIMEOUT|    1|           8.35|      254|       64|             10|JesperLF|     878|    33.88|         2.2|            on|        38|         1|          4.98|2018-11-13T07:58:...|            8|\n",
      "|            OK|    5|       TIMEOUT|    1|           8.35|        1|        3|             10|JesperLF|     876|    33.88|         2.2|            on|        38|         1|          4.98|2018-11-13T07:58:...|            8|\n",
      "|            OK|    5|       TIMEOUT|    1|           8.35|        3|       43|             10|JesperLF|     876|     33.5|         2.2|            on|        38|         1|          4.98|2018-11-13T07:58:...|            8|\n",
      "|            OK|    5|       TIMEOUT|    1|           8.35|        3|       43|             10|JesperLF|     741|    33.88|         2.2|            on|        38|         1|          4.98|2018-11-13T07:56:...|            8|\n",
      "|            OK|    5|       TIMEOUT|    1|           8.35|        3|       43|             10|JesperLF|     696|    33.88|         2.2|            on|        38|         1|          4.98|2018-11-13T07:55:...|            8|\n",
      "|            OK|    5|       TIMEOUT|    1|           8.35|      254|       64|             10|JesperLF|     651|     33.5|         2.2|            on|        38|         1|          4.98|2018-11-13T07:54:...|            8|\n",
      "|            OK|    5|       TIMEOUT|    1|           8.35|        3|       43|             10|  IK8XLD|     468|     35.4|         2.2|            on|        36|         1|          4.98|2018-11-13T06:31:...|            8|\n",
      "+--------------+-----+--------------+-----+---------------+---------+---------+---------------+--------+--------+---------+------------+--------------+----------+----------+--------------+--------------------+-------------+\n",
      "only showing top 20 rows\n",
      "\n"
     ]
    }
   ],
   "source": [
    "spark.sql('select * from df').show()"
   ]
  },
  {
   "cell_type": "code",
   "execution_count": 7,
   "metadata": {},
   "outputs": [
    {
     "name": "stdout",
     "output_type": "stream",
     "text": [
      "root\n",
      " |-- EPS_can_status: string (nullable = true)\n",
      " |-- MCUSR: string (nullable = true)\n",
      " |-- OBC_can_status: string (nullable = true)\n",
      " |-- RF_ID: string (nullable = true)\n",
      " |-- battery_voltage: string (nullable = true)\n",
      " |-- data_type: string (nullable = true)\n",
      " |-- info_size: string (nullable = true)\n",
      " |-- modem_on_period: string (nullable = true)\n",
      " |-- observer: string (nullable = true)\n",
      " |-- opr_time: string (nullable = true)\n",
      " |-- pamp_temp: string (nullable = true)\n",
      " |-- pamp_voltage: string (nullable = true)\n",
      " |-- pwr_save_state: string (nullable = true)\n",
      " |-- reboot_cnt: string (nullable = true)\n",
      " |-- seq_number: string (nullable = true)\n",
      " |-- system_voltage: string (nullable = true)\n",
      " |-- timestamp: string (nullable = true)\n",
      " |-- tx_attenuator: string (nullable = true)\n",
      "\n"
     ]
    }
   ],
   "source": [
    "df.printSchema()"
   ]
  },
  {
   "cell_type": "code",
   "execution_count": 10,
   "metadata": {},
   "outputs": [],
   "source": [
    "df_cast = df.select(\n",
    "        df.timestamp,\n",
    "        df.battery_voltage.cast(\"float\"),\n",
    "        df.pamp_voltage.cast(\"float\"),\n",
    "        df.system_voltage.cast(\"float\"),\n",
    "        df.pamp_temp.cast(\"float\")\n",
    "    )"
   ]
  },
  {
   "cell_type": "code",
   "execution_count": 11,
   "metadata": {},
   "outputs": [
    {
     "name": "stdout",
     "output_type": "stream",
     "text": [
      "root\n",
      " |-- timestamp: string (nullable = true)\n",
      " |-- battery_voltage: float (nullable = true)\n",
      " |-- pamp_voltage: float (nullable = true)\n",
      " |-- system_voltage: float (nullable = true)\n",
      " |-- pamp_temp: float (nullable = true)\n",
      "\n"
     ]
    }
   ],
   "source": [
    "df_cast.printSchema()"
   ]
  },
  {
   "cell_type": "code",
   "execution_count": 12,
   "metadata": {},
   "outputs": [
    {
     "name": "stdout",
     "output_type": "stream",
     "text": [
      "+--------------------+---------------+------------+--------------+---------+\n",
      "|           timestamp|battery_voltage|pamp_voltage|system_voltage|pamp_temp|\n",
      "+--------------------+---------------+------------+--------------+---------+\n",
      "|2018-11-13T10:49:...|           8.35|         2.2|          8.72|    34.26|\n",
      "|2018-11-13T09:33:...|           8.35|         2.2|          8.72|    32.75|\n",
      "|2018-11-13T09:31:...|           8.35|         2.2|          8.72|    32.75|\n",
      "|2018-11-13T08:00:...|           8.32|         2.2|          4.98|    34.26|\n",
      "|2018-11-13T07:59:...|           8.32|         2.2|          4.98|    34.64|\n",
      "|2018-11-13T07:59:...|           8.35|         2.2|          4.98|    35.02|\n",
      "|2018-11-13T07:59:...|           8.35|         2.2|          4.98|    34.64|\n",
      "|2018-11-13T07:59:...|           8.35|         2.2|          4.98|    34.64|\n",
      "|2018-11-13T07:59:...|           8.35|         2.2|          4.98|    34.64|\n",
      "|2018-11-13T07:59:...|           8.35|         2.2|          4.98|    34.26|\n",
      "|2018-11-13T07:59:...|           8.35|         2.2|          4.98|    34.26|\n",
      "|2018-11-13T07:58:...|           8.35|         2.2|          4.98|    34.64|\n",
      "|2018-11-13T07:58:...|           8.35|         2.2|          4.98|    34.26|\n",
      "|2018-11-13T07:58:...|           8.35|         2.2|          4.98|    33.88|\n",
      "|2018-11-13T07:58:...|           8.35|         2.2|          4.98|    33.88|\n",
      "|2018-11-13T07:58:...|           8.35|         2.2|          4.98|     33.5|\n",
      "|2018-11-13T07:56:...|           8.35|         2.2|          4.98|    33.88|\n",
      "|2018-11-13T07:55:...|           8.35|         2.2|          4.98|    33.88|\n",
      "|2018-11-13T07:54:...|           8.35|         2.2|          4.98|     33.5|\n",
      "|2018-11-13T06:31:...|           8.35|         2.2|          4.98|     35.4|\n",
      "+--------------------+---------------+------------+--------------+---------+\n",
      "only showing top 20 rows\n",
      "\n"
     ]
    }
   ],
   "source": [
    "df_cast.show()"
   ]
  },
  {
   "cell_type": "code",
   "execution_count": 13,
   "metadata": {},
   "outputs": [
    {
     "name": "stdout",
     "output_type": "stream",
     "text": [
      "+--------------------+---------------+------------+--------------+---------+---------------------------------------------------+\n",
      "|           timestamp|battery_voltage|pamp_voltage|system_voltage|pamp_temp|unix_timestamp(timestamp, yyyy-MM-ddTHH:mm:ss.SSSZ)|\n",
      "+--------------------+---------------+------------+--------------+---------+---------------------------------------------------+\n",
      "|2018-11-13T10:49:...|           8.35|         2.2|          8.72|    34.26|                                               null|\n",
      "|2018-11-13T09:33:...|           8.35|         2.2|          8.72|    32.75|                                               null|\n",
      "|2018-11-13T09:31:...|           8.35|         2.2|          8.72|    32.75|                                               null|\n",
      "|2018-11-13T08:00:...|           8.32|         2.2|          4.98|    34.26|                                               null|\n",
      "|2018-11-13T07:59:...|           8.32|         2.2|          4.98|    34.64|                                               null|\n",
      "|2018-11-13T07:59:...|           8.35|         2.2|          4.98|    35.02|                                               null|\n",
      "|2018-11-13T07:59:...|           8.35|         2.2|          4.98|    34.64|                                               null|\n",
      "|2018-11-13T07:59:...|           8.35|         2.2|          4.98|    34.64|                                               null|\n",
      "|2018-11-13T07:59:...|           8.35|         2.2|          4.98|    34.64|                                               null|\n",
      "|2018-11-13T07:59:...|           8.35|         2.2|          4.98|    34.26|                                               null|\n",
      "|2018-11-13T07:59:...|           8.35|         2.2|          4.98|    34.26|                                               null|\n",
      "|2018-11-13T07:58:...|           8.35|         2.2|          4.98|    34.64|                                               null|\n",
      "|2018-11-13T07:58:...|           8.35|         2.2|          4.98|    34.26|                                               null|\n",
      "|2018-11-13T07:58:...|           8.35|         2.2|          4.98|    33.88|                                               null|\n",
      "|2018-11-13T07:58:...|           8.35|         2.2|          4.98|    33.88|                                               null|\n",
      "|2018-11-13T07:58:...|           8.35|         2.2|          4.98|     33.5|                                               null|\n",
      "|2018-11-13T07:56:...|           8.35|         2.2|          4.98|    33.88|                                               null|\n",
      "|2018-11-13T07:55:...|           8.35|         2.2|          4.98|    33.88|                                               null|\n",
      "|2018-11-13T07:54:...|           8.35|         2.2|          4.98|     33.5|                                               null|\n",
      "|2018-11-13T06:31:...|           8.35|         2.2|          4.98|     35.4|                                               null|\n",
      "+--------------------+---------------+------------+--------------+---------+---------------------------------------------------+\n",
      "only showing top 20 rows\n",
      "\n"
     ]
    }
   ],
   "source": [
    "df_cast.createOrReplaceTempView('df_cast')\n",
    "spark.sql(\"SELECT *, unix_timestamp(timestamp, 'yyyy-MM-ddTHH:mm:ss.SSSZ') from df_cast\").show()"
   ]
  },
  {
   "cell_type": "code",
   "execution_count": 14,
   "metadata": {},
   "outputs": [
    {
     "ename": "NameError",
     "evalue": "name 'unix_timestamp' is not defined",
     "output_type": "error",
     "traceback": [
      "\u001b[0;31m---------------------------------------------------------------------------\u001b[0m",
      "\u001b[0;31mNameError\u001b[0m                                 Traceback (most recent call last)",
      "\u001b[0;32m<ipython-input-14-81171a6439c3>\u001b[0m in \u001b[0;36m<module>\u001b[0;34m()\u001b[0m\n\u001b[0;32m----> 1\u001b[0;31m \u001b[0mdf_cast\u001b[0m\u001b[0;34m.\u001b[0m\u001b[0mwithColumn\u001b[0m\u001b[0;34m(\u001b[0m\u001b[0;34m\"ts\"\u001b[0m\u001b[0;34m,\u001b[0m \u001b[0munix_timestamp\u001b[0m\u001b[0;34m(\u001b[0m\u001b[0;34m\"timestamp\"\u001b[0m\u001b[0;34m,\u001b[0m \u001b[0;34m\"yyyy-MM-dd'T'HH:mm:ss.SSS'Z'\"\u001b[0m\u001b[0;34m)\u001b[0m\u001b[0;34m.\u001b[0m\u001b[0mcast\u001b[0m\u001b[0;34m(\u001b[0m\u001b[0mTimestampType\u001b[0m\u001b[0;34m)\u001b[0m\u001b[0;34m)\u001b[0m\u001b[0;34m\u001b[0m\u001b[0m\n\u001b[0m",
      "\u001b[0;31mNameError\u001b[0m: name 'unix_timestamp' is not defined"
     ]
    }
   ],
   "source": [
    "df_cast.withColumn(\"ts\", unix_timestamp(\"timestamp\", \"yyyy-MM-dd'T'HH:mm:ss.SSS'Z'\").cast(TimestampType))"
   ]
  },
  {
   "cell_type": "code",
   "execution_count": 15,
   "metadata": {},
   "outputs": [],
   "source": [
    "from pyspark.sql.functions import from_unixtime\n",
    "from pyspark.sql.types import DateType\n",
    "df_cast_ts = df_cast.withColumn('ts', from_unixtime('timestamp').cast(DateType()))"
   ]
  },
  {
   "cell_type": "code",
   "execution_count": 16,
   "metadata": {},
   "outputs": [],
   "source": [
    "df_cast_ts_ordered = df_cast_ts.orderBy('timestamp')"
   ]
  },
  {
   "cell_type": "code",
   "execution_count": 17,
   "metadata": {
    "pixiedust": {
     "displayParams": {
      "aggregation": "MAX",
      "handlerId": "lineChart",
      "keyFields": "timestamp",
      "valueFields": "system_voltage"
     }
    }
   },
   "outputs": [
    {
     "data": {
      "text/html": [
       "<style type=\"text/css\">.pd_warning{display:none;}</style><div class=\"pd_warning\"><em>Hey, there's something awesome here! To see it, open this notebook outside GitHub, in a viewer like Jupyter</em></div>\n",
       "        <div class=\"pd_save is-viewer-good\" style=\"padding-right:10px;text-align: center;line-height:initial !important;font-size: xx-large;font-weight: 500;color: coral;\">\n",
       "            \n",
       "        </div>\n",
       "    <div id=\"chartFigure708a8883\" class=\"pd_save is-viewer-good\" style=\"overflow-x:auto\">\n",
       "            \n",
       "                    \n",
       "                            <center><img style=\"max-width:initial !important\" src=\"data:image/png;base64,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\" class=\"pd_save\"></center>\n",
       "                        \n",
       "                    \n",
       "                \n",
       "        </div>"
      ],
      "text/plain": [
       "<IPython.core.display.HTML object>"
      ]
     },
     "metadata": {},
     "output_type": "display_data"
    }
   ],
   "source": [
    "import pixiedust\n",
    "display(df_cast_ts_ordered)"
   ]
  },
  {
   "cell_type": "code",
   "execution_count": 18,
   "metadata": {},
   "outputs": [
    {
     "name": "stdout",
     "output_type": "stream",
     "text": [
      "+--------------------+---------------+------------+--------------+---------+----+\n",
      "|           timestamp|battery_voltage|pamp_voltage|system_voltage|pamp_temp|  ts|\n",
      "+--------------------+---------------+------------+--------------+---------+----+\n",
      "|                    |           8.35|         2.2|         510.0|     35.4|null|\n",
      "|                    |           8.35|         2.2|         510.0|    34.64|null|\n",
      "|                    |       8.342743|         2.2|         510.0|35.017563|null|\n",
      "|                    |           8.35|         2.2|         510.0|    35.02|null|\n",
      "|                    |           8.35|         2.2|         510.0|    35.02|null|\n",
      "|                    |       8.345032|         2.2|         510.0|35.017563|null|\n",
      "|                    |           8.35|         2.2|         510.0|    35.02|null|\n",
      "|                    |           8.34|         2.2|         510.0|    34.64|null|\n",
      "|                    |           8.35|         2.2|         510.0|   35.018|null|\n",
      "|2018-10-29 16:14:...|           8.35|         2.2|         891.0|    33.88|null|\n",
      "|2018-10-29 21:24:...|           8.35|         2.2|         890.0|    33.88|null|\n",
      "|2018-10-29 21:26:...|           8.35|         2.2|         891.0|    34.64|null|\n",
      "|2018-10-29 21:27:...|           8.35|         2.2|         891.0|    35.01|null|\n",
      "|2018-10-29 21:28:...|           8.35|         2.2|         890.0|    36.15|null|\n",
      "|2018-10-29 21:57:...|           8.35|         2.2|         510.0|    37.29|null|\n",
      "|2018-10-29 22:20:...|           8.35|         2.2|         890.0|    33.88|null|\n",
      "|2018-10-30 00:04:...|           8.31|         2.2|         809.0|    34.64|null|\n",
      "|2018-10-30 11:27:...|           8.34|         2.2|         891.0|    38.42|null|\n",
      "|2018-10-30 11:28:...|           8.35|         2.2|         891.0|    37.67|null|\n",
      "|2018-10-30 11:29:...|           8.32|         2.2|         809.0|    38.05|null|\n",
      "+--------------------+---------------+------------+--------------+---------+----+\n",
      "only showing top 20 rows\n",
      "\n"
     ]
    }
   ],
   "source": [
    "df_cast_ts_ordered.show()"
   ]
  },
  {
   "cell_type": "code",
   "execution_count": 22,
   "metadata": {},
   "outputs": [],
   "source": [
    "\n",
    "\n",
    "from pyspark.ml.feature import VectorAssembler\n",
    "\n",
    "vectorAssembler = VectorAssembler(inputCols=[\"battery_voltage\",\"pamp_voltage\",\"system_voltage\",\"pamp_temp\"],\n",
    "                                  outputCol=\"features\")\n",
    "\n"
   ]
  },
  {
   "cell_type": "code",
   "execution_count": 23,
   "metadata": {},
   "outputs": [],
   "source": [
    "\n",
    "\n",
    "from pyspark.ml.clustering import KMeans\n",
    "\n",
    "kmeans = KMeans().setK(2).setSeed(1)\n",
    "\n"
   ]
  },
  {
   "cell_type": "code",
   "execution_count": 24,
   "metadata": {},
   "outputs": [],
   "source": [
    "from pyspark.ml import Pipeline\n",
    "pipeline = Pipeline(stages=[vectorAssembler, kmeans])"
   ]
  },
  {
   "cell_type": "code",
   "execution_count": 25,
   "metadata": {},
   "outputs": [],
   "source": [
    "\n",
    "model = pipeline.fit(df_cast_ts_ordered)\n",
    "\n"
   ]
  },
  {
   "cell_type": "code",
   "execution_count": 26,
   "metadata": {},
   "outputs": [
    {
     "name": "stdout",
     "output_type": "stream",
     "text": [
      "Within Set Sum of Squared Errors = 5822416.880138148\n"
     ]
    }
   ],
   "source": [
    "wssse = model.stages[1].computeCost(vectorAssembler.transform(df_cast_ts_ordered))\n",
    "print(\"Within Set Sum of Squared Errors = \" + str(wssse))"
   ]
  },
  {
   "cell_type": "code",
   "execution_count": 27,
   "metadata": {},
   "outputs": [
    {
     "data": {
      "text/plain": [
       "pyspark.ml.clustering.KMeansModel"
      ]
     },
     "execution_count": 27,
     "metadata": {},
     "output_type": "execute_result"
    }
   ],
   "source": [
    "type(model.stages[1])"
   ]
  },
  {
   "cell_type": "code",
   "execution_count": 28,
   "metadata": {},
   "outputs": [
    {
     "name": "stdout",
     "output_type": "stream",
     "text": [
      "+----------+\n",
      "|prediction|\n",
      "+----------+\n",
      "|         1|\n",
      "|         0|\n",
      "+----------+\n",
      "\n"
     ]
    }
   ],
   "source": [
    "transformed =  model.transform(df_cast_ts_ordered)\n",
    "transformed.select('prediction').distinct().show()"
   ]
  },
  {
   "cell_type": "code",
   "execution_count": 29,
   "metadata": {},
   "outputs": [],
   "source": [
    "transformed.createOrReplaceTempView('transformed')"
   ]
  },
  {
   "cell_type": "code",
   "execution_count": 30,
   "metadata": {},
   "outputs": [
    {
     "name": "stdout",
     "output_type": "stream",
     "text": [
      "+-------------------+\n",
      "|avg(system_voltage)|\n",
      "+-------------------+\n",
      "| 7.4811055684428185|\n",
      "+-------------------+\n",
      "\n"
     ]
    }
   ],
   "source": [
    "spark.sql('select avg(system_voltage) from transformed where prediction = 0').show()"
   ]
  },
  {
   "cell_type": "code",
   "execution_count": 31,
   "metadata": {},
   "outputs": [
    {
     "name": "stdout",
     "output_type": "stream",
     "text": [
      "+---------------------+\n",
      "|count(system_voltage)|\n",
      "+---------------------+\n",
      "|                  169|\n",
      "+---------------------+\n",
      "\n"
     ]
    }
   ],
   "source": [
    "spark.sql('select count(system_voltage) from transformed where prediction = 1 and system_voltage >100').show()"
   ]
  },
  {
   "cell_type": "code",
   "execution_count": 29,
   "metadata": {},
   "outputs": [
    {
     "name": "stdout",
     "output_type": "stream",
     "text": [
      "+---------------------+\n",
      "|count(system_voltage)|\n",
      "+---------------------+\n",
      "|                  169|\n",
      "+---------------------+\n",
      "\n"
     ]
    }
   ],
   "source": [
    "spark.sql('select count(system_voltage) from transformed where prediction = 1').show()"
   ]
  }
 ],
 "metadata": {
  "kernelspec": {
   "display_name": "Python 3.5 with Spark",
   "language": "python3",
   "name": "python3"
  },
  "language_info": {
   "codemirror_mode": {
    "name": "ipython",
    "version": 3
   },
   "file_extension": ".py",
   "mimetype": "text/x-python",
   "name": "python",
   "nbconvert_exporter": "python",
   "pygments_lexer": "ipython3",
   "version": "3.5.4"
  }
 },
 "nbformat": 4,
 "nbformat_minor": 1
}
